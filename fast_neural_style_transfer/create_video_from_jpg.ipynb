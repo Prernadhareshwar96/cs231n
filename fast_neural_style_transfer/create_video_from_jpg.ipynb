{
 "cells": [
  {
   "cell_type": "code",
   "execution_count": 2,
   "metadata": {},
   "outputs": [],
   "source": [
    "import cv2\n",
    "import os"
   ]
  },
  {
   "cell_type": "code",
   "execution_count": 43,
   "metadata": {},
   "outputs": [
    {
     "name": "stdout",
     "output_type": "stream",
     "text": [
      "output_final/Final13/0.jpg3.jpg\n",
      "output_final/Final13/0.jpg3.jpg\n",
      "output_final/Final13/0.jpg3.jpg\n",
      "output_final/Final13/0.jpg3.jpg\n",
      "output_final/Final13/0.jpg3.jpg\n",
      "output_final/Final13/0.jpg3.jpg\n",
      "output_final/Final13/0.jpg3.jpg\n",
      "output_final/Final13/0.jpg3.jpg\n",
      "output_final/Final13/0.jpg3.jpg\n",
      "output_final/Final13/0.jpg3.jpg\n",
      "output_final/Final13/0.jpg3.jpg\n",
      "output_final/Final13/0.jpg3.jpg\n",
      "output_final/Final13/0.jpg3.jpg\n",
      "output_final/Final13/0.jpg3.jpg\n",
      "output_final/Final13/0.jpg3.jpg\n",
      "output_final/Final13/0.jpg3.jpg\n",
      "output_final/Final13/0.jpg3.jpg\n",
      "output_final/Final13/0.jpg3.jpg\n",
      "output_final/Final13/0.jpg3.jpg\n",
      "output_final/Final13/0.jpg3.jpg\n",
      "output_final/Final13/0.jpg3.jpg\n",
      "output_final/Final13/0.jpg3.jpg\n",
      "output_final/Final13/0.jpg3.jpg\n",
      "output_final/Final13/0.jpg3.jpg\n",
      "output_final/Final13/0.jpg3.jpg\n",
      "output_final/Final13/0.jpg3.jpg\n",
      "output_final/Final13/0.jpg3.jpg\n",
      "output_final/Final13/0.jpg3.jpg\n",
      "output_final/Final13/0.jpg3.jpg\n",
      "output_final/Final13/0.jpg3.jpg\n",
      "output_final/Final13/0.jpg3.jpg\n",
      "output_final/Final13/0.jpg3.jpg\n"
     ]
    }
   ],
   "source": [
    "name = 'Final13'\n",
    "image_folder = 'output_final/'+name+'/'\n",
    "style_id = 0\n",
    "video_name = name+'.avi'\n",
    "images =[]\n",
    "for i in range(32):\n",
    "    images.append(image_folder+str(i)+\".jpg3.jpg\")\n",
    "    print(images[0])\n",
    "    frame = cv2.imread(images[0])\n",
    "    height, width, layers = frame.shape\n",
    "\n",
    "    video = cv2.VideoWriter(video_name, 0, 10, (width,height))\n",
    "\n",
    "for image in images:\n",
    "    video.write(cv2.imread(image))\n",
    "\n",
    "cv2.destroyAllWindows()\n",
    "video.release()"
   ]
  },
  {
   "cell_type": "code",
   "execution_count": null,
   "metadata": {},
   "outputs": [],
   "source": []
  }
 ],
 "metadata": {
  "kernelspec": {
   "display_name": "Python 3",
   "language": "python",
   "name": "python3"
  },
  "language_info": {
   "codemirror_mode": {
    "name": "ipython",
    "version": 3
   },
   "file_extension": ".py",
   "mimetype": "text/x-python",
   "name": "python",
   "nbconvert_exporter": "python",
   "pygments_lexer": "ipython3",
   "version": "3.7.1"
  }
 },
 "nbformat": 4,
 "nbformat_minor": 2
}
