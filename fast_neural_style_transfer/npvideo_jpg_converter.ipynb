{
 "cells": [
  {
   "cell_type": "code",
   "execution_count": 16,
   "metadata": {},
   "outputs": [],
   "source": [
    "import numpy as np\n",
    "from PIL import Image\n",
    "import matplotlib.pyplot as plt\n",
    "import os\n",
    "import cv2"
   ]
  },
  {
   "cell_type": "code",
   "execution_count": 35,
   "metadata": {},
   "outputs": [
    {
     "data": {
      "text/plain": [
       "<Figure size 432x288 with 0 Axes>"
      ]
     },
     "metadata": {},
     "output_type": "display_data"
    }
   ],
   "source": [
    "dir ='images/content_images_final_data/'\n",
    "dir2 ='images/Final1_jpg/'\n",
    "plt.figure()\n",
    "#f_list =[]\n",
    "#for filename in os.listdir(dir):\n",
    "#     print(filename)\n",
    "#     path = dir+ '/' + filename\n",
    "path = dir +'Final1.csv'\n",
    "y = np.loadtxt(path)\n",
    "\n",
    "y = np.reshape(y, (32, 64, 64, 3))\n",
    "for j in range(32):\n",
    "    x= np.array(y[j]*255)\n",
    "#     print(x.shape)\n",
    "    new_im = Image.fromarray(x.astype('uint8'))\n",
    "    new_im.save(dir2+str(j)+'.jpg')\n",
    "#     plt.imshow(new_im)\n",
    "#     plt.show()\n"
   ]
  },
  {
   "cell_type": "code",
   "execution_count": 39,
   "metadata": {},
   "outputs": [
    {
     "name": "stdout",
     "output_type": "stream",
     "text": [
      "(12288,)\n"
     ]
    }
   ],
   "source": [
    "dir ='images/content_images_final_data/'\n",
    "dir2 ='images/Target4'\n",
    "path = dir +'Target4.csv'\n",
    "y = np.loadtxt(path)\n",
    "print(y.shape)\n",
    "y = np.reshape(y, (64, 64, 3))\n",
    "for j in range(2):\n",
    "    x= np.array(y*255)\n",
    "    new_im = Image.fromarray(x.astype('uint8'))\n",
    "    new_im.save(dir2+'.jpg')\n"
   ]
  },
  {
   "cell_type": "code",
   "execution_count": null,
   "metadata": {},
   "outputs": [],
   "source": []
  }
 ],
 "metadata": {
  "kernelspec": {
   "display_name": "Python 3",
   "language": "python",
   "name": "python3"
  },
  "language_info": {
   "codemirror_mode": {
    "name": "ipython",
    "version": 3
   },
   "file_extension": ".py",
   "mimetype": "text/x-python",
   "name": "python",
   "nbconvert_exporter": "python",
   "pygments_lexer": "ipython3",
   "version": "3.7.1"
  }
 },
 "nbformat": 4,
 "nbformat_minor": 2
}
